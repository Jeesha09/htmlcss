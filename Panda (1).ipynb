{
  "metadata": {
    "kernelspec": {
      "name": "python",
      "display_name": "Python (Pyodide)",
      "language": "python"
    },
    "language_info": {
      "codemirror_mode": {
        "name": "python",
        "version": 3
      },
      "file_extension": ".py",
      "mimetype": "text/x-python",
      "name": "python",
      "nbconvert_exporter": "python",
      "pygments_lexer": "ipython3",
      "version": "3.8"
    },
    "widgets": {
      "application/vnd.jupyter.widget-state+json": {
        "version_major": 2,
        "version_minor": 0,
        "state": {}
      }
    }
  },
  "nbformat_minor": 4,
  "nbformat": 4,
  "cells": [
    {
      "cell_type": "code",
      "source": "import pandas as pd\nimport numpy as np",
      "metadata": {
        "trusted": true
      },
      "outputs": [],
      "execution_count": 1
    },
    {
      "cell_type": "markdown",
      "source": "# Pandas Series\n##### analyzing \"the group of seven\" starting with population, we'll use 'pandas.Series' object.",
      "metadata": {}
    },
    {
      "cell_type": "code",
      "source": "# In millions\ng7_pop = pd.Series([35.467, 63.951, 80.940, 60.665, 127.061, 64.511, 318.523])",
      "metadata": {
        "trusted": true
      },
      "outputs": [],
      "execution_count": 2
    },
    {
      "cell_type": "code",
      "source": "g7_pop",
      "metadata": {
        "trusted": true
      },
      "outputs": [
        {
          "execution_count": 3,
          "output_type": "execute_result",
          "data": {
            "text/plain": "0     35.467\n1     63.951\n2     80.940\n3     60.665\n4    127.061\n5     64.511\n6    318.523\ndtype: float64"
          },
          "metadata": {}
        }
      ],
      "execution_count": 3
    },
    {
      "cell_type": "code",
      "source": "g7_pop.name = 'G7 Population in millions'",
      "metadata": {
        "trusted": true
      },
      "outputs": [],
      "execution_count": 4
    },
    {
      "cell_type": "code",
      "source": "g7_pop",
      "metadata": {
        "trusted": true
      },
      "outputs": [
        {
          "execution_count": 5,
          "output_type": "execute_result",
          "data": {
            "text/plain": "0     35.467\n1     63.951\n2     80.940\n3     60.665\n4    127.061\n5     64.511\n6    318.523\nName: G7 Population in millions, dtype: float64"
          },
          "metadata": {}
        }
      ],
      "execution_count": 5
    },
    {
      "cell_type": "code",
      "source": "g7_pop.name = 'G7 Population in millions'",
      "metadata": {
        "trusted": true
      },
      "outputs": [],
      "execution_count": 6
    },
    {
      "cell_type": "code",
      "source": "g7_pop",
      "metadata": {
        "trusted": true
      },
      "outputs": [
        {
          "execution_count": 7,
          "output_type": "execute_result",
          "data": {
            "text/plain": "0     35.467\n1     63.951\n2     80.940\n3     60.665\n4    127.061\n5     64.511\n6    318.523\nName: G7 Population in millions, dtype: float64"
          },
          "metadata": {}
        }
      ],
      "execution_count": 7
    },
    {
      "cell_type": "code",
      "source": "g7_pop.dtype",
      "metadata": {
        "trusted": true
      },
      "outputs": [
        {
          "execution_count": 8,
          "output_type": "execute_result",
          "data": {
            "text/plain": "dtype('float64')"
          },
          "metadata": {}
        }
      ],
      "execution_count": 8
    },
    {
      "cell_type": "code",
      "source": "g7_pop.values",
      "metadata": {
        "trusted": true
      },
      "outputs": [
        {
          "execution_count": 9,
          "output_type": "execute_result",
          "data": {
            "text/plain": "array([ 35.467,  63.951,  80.94 ,  60.665, 127.061,  64.511, 318.523])"
          },
          "metadata": {}
        }
      ],
      "execution_count": 9
    },
    {
      "cell_type": "code",
      "source": "type(g7_pop.values)",
      "metadata": {
        "trusted": true
      },
      "outputs": [
        {
          "execution_count": 10,
          "output_type": "execute_result",
          "data": {
            "text/plain": "numpy.ndarray"
          },
          "metadata": {}
        }
      ],
      "execution_count": 10
    },
    {
      "cell_type": "code",
      "source": "g7_pop",
      "metadata": {
        "trusted": true
      },
      "outputs": [
        {
          "execution_count": 11,
          "output_type": "execute_result",
          "data": {
            "text/plain": "0     35.467\n1     63.951\n2     80.940\n3     60.665\n4    127.061\n5     64.511\n6    318.523\nName: G7 Population in millions, dtype: float64"
          },
          "metadata": {}
        }
      ],
      "execution_count": 11
    },
    {
      "cell_type": "code",
      "source": "g7_pop[0]",
      "metadata": {
        "trusted": true
      },
      "outputs": [
        {
          "execution_count": 12,
          "output_type": "execute_result",
          "data": {
            "text/plain": "35.467"
          },
          "metadata": {}
        }
      ],
      "execution_count": 12
    },
    {
      "cell_type": "code",
      "source": "g7_pop[1]",
      "metadata": {
        "trusted": true
      },
      "outputs": [
        {
          "execution_count": 13,
          "output_type": "execute_result",
          "data": {
            "text/plain": "63.951"
          },
          "metadata": {}
        }
      ],
      "execution_count": 13
    },
    {
      "cell_type": "code",
      "source": "g7_pop.index",
      "metadata": {
        "trusted": true
      },
      "outputs": [
        {
          "execution_count": 14,
          "output_type": "execute_result",
          "data": {
            "text/plain": "RangeIndex(start=0, stop=7, step=1)"
          },
          "metadata": {}
        }
      ],
      "execution_count": 14
    },
    {
      "cell_type": "code",
      "source": "l = ['a', 'b', 'c']",
      "metadata": {
        "trusted": true
      },
      "outputs": [],
      "execution_count": 15
    },
    {
      "cell_type": "code",
      "source": "g7_pop.index = [\n    'Canada',\n    'France',\n    'Germany',\n    'Italy',\n    'Japan',\n    'United Kingdom',\n    'United States',\n]",
      "metadata": {
        "trusted": true
      },
      "outputs": [],
      "execution_count": 16
    },
    {
      "cell_type": "code",
      "source": "g7_pop",
      "metadata": {
        "trusted": true
      },
      "outputs": [
        {
          "execution_count": 17,
          "output_type": "execute_result",
          "data": {
            "text/plain": "Canada             35.467\nFrance             63.951\nGermany            80.940\nItaly              60.665\nJapan             127.061\nUnited Kingdom     64.511\nUnited States     318.523\nName: G7 Population in millions, dtype: float64"
          },
          "metadata": {}
        }
      ],
      "execution_count": 17
    },
    {
      "cell_type": "code",
      "source": "pd.Series({\n    'Canada': 35.467,\n    'France': 63.951,\n    'Germany': 80.94,\n    'Italy': 60.665,\n    'Japan': 127.061,\n    'United Kingdom': 64.511,\n    'United States': 318.523\n}, name='G7 Population in millions')",
      "metadata": {
        "trusted": true
      },
      "outputs": [
        {
          "execution_count": 18,
          "output_type": "execute_result",
          "data": {
            "text/plain": "Canada             35.467\nFrance             63.951\nGermany            80.940\nItaly              60.665\nJapan             127.061\nUnited Kingdom     64.511\nUnited States     318.523\nName: G7 Population in millions, dtype: float64"
          },
          "metadata": {}
        }
      ],
      "execution_count": 18
    },
    {
      "cell_type": "code",
      "source": "pd.Series(\n    [35.467, 63.951, 80.94, 60.665, 127.061, 64.511, 318.523],\n    index=['Canada', 'France', 'Germany', 'Italy', 'Japan', 'United Kingdom',\n       'United States'],\n    name='G7 Population in millions')",
      "metadata": {
        "trusted": true
      },
      "outputs": [
        {
          "execution_count": 19,
          "output_type": "execute_result",
          "data": {
            "text/plain": "Canada             35.467\nFrance             63.951\nGermany            80.940\nItaly              60.665\nJapan             127.061\nUnited Kingdom     64.511\nUnited States     318.523\nName: G7 Population in millions, dtype: float64"
          },
          "metadata": {}
        }
      ],
      "execution_count": 19
    },
    {
      "cell_type": "code",
      "source": "pd.Series(g7_pop, index=['France', 'Germany', 'Italy', 'Spain'])",
      "metadata": {
        "trusted": true
      },
      "outputs": [
        {
          "execution_count": 20,
          "output_type": "execute_result",
          "data": {
            "text/plain": "France     63.951\nGermany    80.940\nItaly      60.665\nSpain         NaN\nName: G7 Population in millions, dtype: float64"
          },
          "metadata": {}
        }
      ],
      "execution_count": 20
    },
    {
      "cell_type": "markdown",
      "source": "# Indexing",
      "metadata": {}
    },
    {
      "cell_type": "code",
      "source": "g7_pop",
      "metadata": {
        "trusted": true
      },
      "outputs": [
        {
          "execution_count": 21,
          "output_type": "execute_result",
          "data": {
            "text/plain": "Canada             35.467\nFrance             63.951\nGermany            80.940\nItaly              60.665\nJapan             127.061\nUnited Kingdom     64.511\nUnited States     318.523\nName: G7 Population in millions, dtype: float64"
          },
          "metadata": {}
        }
      ],
      "execution_count": 21
    },
    {
      "cell_type": "code",
      "source": "g7_pop['Canada']",
      "metadata": {
        "trusted": true
      },
      "outputs": [
        {
          "execution_count": 22,
          "output_type": "execute_result",
          "data": {
            "text/plain": "35.467"
          },
          "metadata": {}
        }
      ],
      "execution_count": 22
    },
    {
      "cell_type": "code",
      "source": "\ng7_pop['Japan']",
      "metadata": {
        "trusted": true
      },
      "outputs": [
        {
          "execution_count": 23,
          "output_type": "execute_result",
          "data": {
            "text/plain": "127.061"
          },
          "metadata": {}
        }
      ],
      "execution_count": 23
    },
    {
      "cell_type": "markdown",
      "source": "##### Numeric positions can also be used, with the iloc attribute:",
      "metadata": {}
    },
    {
      "cell_type": "code",
      "source": "g7_pop.iloc[0]",
      "metadata": {
        "trusted": true
      },
      "outputs": [
        {
          "execution_count": 24,
          "output_type": "execute_result",
          "data": {
            "text/plain": "35.467"
          },
          "metadata": {}
        }
      ],
      "execution_count": 24
    },
    {
      "cell_type": "code",
      "source": "g7_pop.iloc[-1]",
      "metadata": {
        "trusted": true
      },
      "outputs": [
        {
          "execution_count": 25,
          "output_type": "execute_result",
          "data": {
            "text/plain": "318.523"
          },
          "metadata": {}
        }
      ],
      "execution_count": 25
    },
    {
      "cell_type": "markdown",
      "source": "##### Selecting multiple elements at once:",
      "metadata": {}
    },
    {
      "cell_type": "code",
      "source": "g7_pop[['Italy', 'France']]",
      "metadata": {
        "trusted": true
      },
      "outputs": [
        {
          "execution_count": 26,
          "output_type": "execute_result",
          "data": {
            "text/plain": "Italy     60.665\nFrance    63.951\nName: G7 Population in millions, dtype: float64"
          },
          "metadata": {}
        }
      ],
      "execution_count": 26
    },
    {
      "cell_type": "code",
      "source": "g7_pop.iloc[[0, 1]]",
      "metadata": {
        "trusted": true
      },
      "outputs": [
        {
          "execution_count": 27,
          "output_type": "execute_result",
          "data": {
            "text/plain": "Canada    35.467\nFrance    63.951\nName: G7 Population in millions, dtype: float64"
          },
          "metadata": {}
        }
      ],
      "execution_count": 27
    },
    {
      "cell_type": "code",
      "source": "g7_pop['Canada': 'Italy']",
      "metadata": {
        "trusted": true
      },
      "outputs": [
        {
          "execution_count": 28,
          "output_type": "execute_result",
          "data": {
            "text/plain": "Canada     35.467\nFrance     63.951\nGermany    80.940\nItaly      60.665\nName: G7 Population in millions, dtype: float64"
          },
          "metadata": {}
        }
      ],
      "execution_count": 28
    },
    {
      "cell_type": "markdown",
      "source": "# Conditional selection (boolean arrays)\n##### The same boolean array techniques we saw applied to numpy arrays can be used for Pandas Series:",
      "metadata": {}
    },
    {
      "cell_type": "code",
      "source": "g7_pop",
      "metadata": {
        "trusted": true
      },
      "outputs": [
        {
          "execution_count": 29,
          "output_type": "execute_result",
          "data": {
            "text/plain": "Canada             35.467\nFrance             63.951\nGermany            80.940\nItaly              60.665\nJapan             127.061\nUnited Kingdom     64.511\nUnited States     318.523\nName: G7 Population in millions, dtype: float64"
          },
          "metadata": {}
        }
      ],
      "execution_count": 29
    },
    {
      "cell_type": "code",
      "source": "g7_pop > 70",
      "metadata": {
        "trusted": true
      },
      "outputs": [
        {
          "execution_count": 30,
          "output_type": "execute_result",
          "data": {
            "text/plain": "Canada            False\nFrance            False\nGermany            True\nItaly             False\nJapan              True\nUnited Kingdom    False\nUnited States      True\nName: G7 Population in millions, dtype: bool"
          },
          "metadata": {}
        }
      ],
      "execution_count": 30
    },
    {
      "cell_type": "code",
      "source": "g7_pop[g7_pop > 70]",
      "metadata": {
        "trusted": true
      },
      "outputs": [
        {
          "execution_count": 31,
          "output_type": "execute_result",
          "data": {
            "text/plain": "Germany           80.940\nJapan            127.061\nUnited States    318.523\nName: G7 Population in millions, dtype: float64"
          },
          "metadata": {}
        }
      ],
      "execution_count": 31
    },
    {
      "cell_type": "code",
      "source": "g7_pop.mean()",
      "metadata": {
        "trusted": true
      },
      "outputs": [
        {
          "execution_count": 32,
          "output_type": "execute_result",
          "data": {
            "text/plain": "107.30257142857144"
          },
          "metadata": {}
        }
      ],
      "execution_count": 32
    },
    {
      "cell_type": "code",
      "source": "g7_pop[g7_pop > g7_pop.mean()]",
      "metadata": {
        "trusted": true
      },
      "outputs": [
        {
          "execution_count": 33,
          "output_type": "execute_result",
          "data": {
            "text/plain": "Japan            127.061\nUnited States    318.523\nName: G7 Population in millions, dtype: float64"
          },
          "metadata": {}
        }
      ],
      "execution_count": 33
    },
    {
      "cell_type": "code",
      "source": "g7_pop.std()",
      "metadata": {
        "trusted": true
      },
      "outputs": [
        {
          "execution_count": 34,
          "output_type": "execute_result",
          "data": {
            "text/plain": "97.24996987121581"
          },
          "metadata": {}
        }
      ],
      "execution_count": 34
    },
    {
      "cell_type": "markdown",
      "source": "### ~ not\n### | or\n### & and",
      "metadata": {}
    },
    {
      "cell_type": "code",
      "source": "g7_pop[(g7_pop > g7_pop.mean() - g7_pop.std() / 2) | (g7_pop > g7_pop.mean() + g7_pop.std() / 2)]",
      "metadata": {
        "trusted": true
      },
      "outputs": [
        {
          "execution_count": 35,
          "output_type": "execute_result",
          "data": {
            "text/plain": "France             63.951\nGermany            80.940\nItaly              60.665\nJapan             127.061\nUnited Kingdom     64.511\nUnited States     318.523\nName: G7 Population in millions, dtype: float64"
          },
          "metadata": {}
        }
      ],
      "execution_count": 35
    },
    {
      "cell_type": "markdown",
      "source": "# Operations and methods\n#### Series also support vectorized operations and aggregation functions as Numpy:",
      "metadata": {}
    },
    {
      "cell_type": "code",
      "source": "g7_pop",
      "metadata": {
        "trusted": true
      },
      "outputs": [
        {
          "execution_count": 36,
          "output_type": "execute_result",
          "data": {
            "text/plain": "Canada             35.467\nFrance             63.951\nGermany            80.940\nItaly              60.665\nJapan             127.061\nUnited Kingdom     64.511\nUnited States     318.523\nName: G7 Population in millions, dtype: float64"
          },
          "metadata": {}
        }
      ],
      "execution_count": 36
    },
    {
      "cell_type": "code",
      "source": "g7_pop * 1_000_000",
      "metadata": {
        "trusted": true
      },
      "outputs": [
        {
          "execution_count": 37,
          "output_type": "execute_result",
          "data": {
            "text/plain": "Canada             35467000.0\nFrance             63951000.0\nGermany            80940000.0\nItaly              60665000.0\nJapan             127061000.0\nUnited Kingdom     64511000.0\nUnited States     318523000.0\nName: G7 Population in millions, dtype: float64"
          },
          "metadata": {}
        }
      ],
      "execution_count": 37
    },
    {
      "cell_type": "code",
      "source": "g7_pop.mean()",
      "metadata": {
        "trusted": true
      },
      "outputs": [
        {
          "execution_count": 38,
          "output_type": "execute_result",
          "data": {
            "text/plain": "107.30257142857144"
          },
          "metadata": {}
        }
      ],
      "execution_count": 38
    },
    {
      "cell_type": "code",
      "source": "np.log(g7_pop)",
      "metadata": {
        "trusted": true
      },
      "outputs": [
        {
          "execution_count": 39,
          "output_type": "execute_result",
          "data": {
            "text/plain": "Canada            3.568603\nFrance            4.158117\nGermany           4.393708\nItaly             4.105367\nJapan             4.844667\nUnited Kingdom    4.166836\nUnited States     5.763695\nName: G7 Population in millions, dtype: float64"
          },
          "metadata": {}
        }
      ],
      "execution_count": 39
    },
    {
      "cell_type": "code",
      "source": "g7_pop['France': 'Italy'].mean()",
      "metadata": {
        "trusted": true
      },
      "outputs": [
        {
          "execution_count": 40,
          "output_type": "execute_result",
          "data": {
            "text/plain": "68.51866666666666"
          },
          "metadata": {}
        }
      ],
      "execution_count": 40
    },
    {
      "cell_type": "markdown",
      "source": "# Boolean arrays\n##### (Work in the same way as numpy)",
      "metadata": {}
    },
    {
      "cell_type": "code",
      "source": "g7_pop",
      "metadata": {
        "trusted": true
      },
      "outputs": [
        {
          "execution_count": 41,
          "output_type": "execute_result",
          "data": {
            "text/plain": "Canada             35.467\nFrance             63.951\nGermany            80.940\nItaly              60.665\nJapan             127.061\nUnited Kingdom     64.511\nUnited States     318.523\nName: G7 Population in millions, dtype: float64"
          },
          "metadata": {}
        }
      ],
      "execution_count": 41
    },
    {
      "cell_type": "code",
      "source": "g7_pop > 80",
      "metadata": {
        "trusted": true
      },
      "outputs": [
        {
          "execution_count": 42,
          "output_type": "execute_result",
          "data": {
            "text/plain": "Canada            False\nFrance            False\nGermany            True\nItaly             False\nJapan              True\nUnited Kingdom    False\nUnited States      True\nName: G7 Population in millions, dtype: bool"
          },
          "metadata": {}
        }
      ],
      "execution_count": 42
    },
    {
      "cell_type": "code",
      "source": "g7_pop[g7_pop > 80]",
      "metadata": {
        "trusted": true
      },
      "outputs": [
        {
          "execution_count": 43,
          "output_type": "execute_result",
          "data": {
            "text/plain": "Germany           80.940\nJapan            127.061\nUnited States    318.523\nName: G7 Population in millions, dtype: float64"
          },
          "metadata": {}
        }
      ],
      "execution_count": 43
    },
    {
      "cell_type": "code",
      "source": "g7_pop[(g7_pop > 80) | (g7_pop < 40)]",
      "metadata": {
        "trusted": true
      },
      "outputs": [
        {
          "execution_count": 44,
          "output_type": "execute_result",
          "data": {
            "text/plain": "Canada            35.467\nGermany           80.940\nJapan            127.061\nUnited States    318.523\nName: G7 Population in millions, dtype: float64"
          },
          "metadata": {}
        }
      ],
      "execution_count": 44
    },
    {
      "cell_type": "code",
      "source": "g7_pop[(g7_pop > 80) & (g7_pop < 200)]",
      "metadata": {
        "trusted": true
      },
      "outputs": [
        {
          "execution_count": 45,
          "output_type": "execute_result",
          "data": {
            "text/plain": "Germany     80.940\nJapan      127.061\nName: G7 Population in millions, dtype: float64"
          },
          "metadata": {}
        }
      ],
      "execution_count": 45
    },
    {
      "cell_type": "markdown",
      "source": "# Modifying series",
      "metadata": {}
    },
    {
      "cell_type": "code",
      "source": "g7_pop['Canada'] = 40.5",
      "metadata": {
        "trusted": true
      },
      "outputs": [],
      "execution_count": 46
    },
    {
      "cell_type": "code",
      "source": "g7_pop",
      "metadata": {
        "trusted": true
      },
      "outputs": [
        {
          "execution_count": 47,
          "output_type": "execute_result",
          "data": {
            "text/plain": "Canada             40.500\nFrance             63.951\nGermany            80.940\nItaly              60.665\nJapan             127.061\nUnited Kingdom     64.511\nUnited States     318.523\nName: G7 Population in millions, dtype: float64"
          },
          "metadata": {}
        }
      ],
      "execution_count": 47
    },
    {
      "cell_type": "code",
      "source": "g7_pop.iloc[-1] = 500",
      "metadata": {
        "trusted": true
      },
      "outputs": [],
      "execution_count": 48
    },
    {
      "cell_type": "code",
      "source": "g7_pop",
      "metadata": {
        "trusted": true
      },
      "outputs": [
        {
          "execution_count": 49,
          "output_type": "execute_result",
          "data": {
            "text/plain": "Canada             40.500\nFrance             63.951\nGermany            80.940\nItaly              60.665\nJapan             127.061\nUnited Kingdom     64.511\nUnited States     500.000\nName: G7 Population in millions, dtype: float64"
          },
          "metadata": {}
        }
      ],
      "execution_count": 49
    },
    {
      "cell_type": "code",
      "source": "g7_pop[g7_pop < 70]",
      "metadata": {
        "trusted": true
      },
      "outputs": [
        {
          "execution_count": 50,
          "output_type": "execute_result",
          "data": {
            "text/plain": "Canada            40.500\nFrance            63.951\nItaly             60.665\nUnited Kingdom    64.511\nName: G7 Population in millions, dtype: float64"
          },
          "metadata": {}
        }
      ],
      "execution_count": 50
    },
    {
      "cell_type": "code",
      "source": "g7_pop[g7_pop < 70] = 99.99",
      "metadata": {
        "trusted": true
      },
      "outputs": [],
      "execution_count": 51
    },
    {
      "cell_type": "code",
      "source": "g7_pop",
      "metadata": {
        "trusted": true
      },
      "outputs": [
        {
          "execution_count": 52,
          "output_type": "execute_result",
          "data": {
            "text/plain": "Canada             99.990\nFrance             99.990\nGermany            80.940\nItaly              99.990\nJapan             127.061\nUnited Kingdom     99.990\nUnited States     500.000\nName: G7 Population in millions, dtype: float64"
          },
          "metadata": {}
        }
      ],
      "execution_count": 52
    }
  ]
}